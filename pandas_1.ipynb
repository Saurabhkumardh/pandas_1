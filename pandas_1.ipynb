{
  "nbformat": 4,
  "nbformat_minor": 0,
  "metadata": {
    "colab": {
      "provenance": []
    },
    "kernelspec": {
      "name": "python3",
      "display_name": "Python 3"
    },
    "language_info": {
      "name": "python"
    }
  },
  "cells": [
    {
      "cell_type": "code",
      "execution_count": 1,
      "metadata": {
        "id": "dm6cfyQKGwLR"
      },
      "outputs": [],
      "source": [
        "import pandas as pd"
      ]
    },
    {
      "cell_type": "markdown",
      "source": [
        "Question 1"
      ],
      "metadata": {
        "id": "J9vT0x97G1IY"
      }
    },
    {
      "cell_type": "code",
      "source": [
        "import pandas as pd\n",
        "\n",
        "data = [4, 8, 15, 16, 23, 42]\n",
        "series = pd.Series(data)\n",
        "print(series)\n"
      ],
      "metadata": {
        "colab": {
          "base_uri": "https://localhost:8080/"
        },
        "id": "2QsYt1e5G22p",
        "outputId": "ff8e1174-f5ea-42c3-ec66-5ae930b0203d"
      },
      "execution_count": 2,
      "outputs": [
        {
          "output_type": "stream",
          "name": "stdout",
          "text": [
            "0     4\n",
            "1     8\n",
            "2    15\n",
            "3    16\n",
            "4    23\n",
            "5    42\n",
            "dtype: int64\n"
          ]
        }
      ]
    },
    {
      "cell_type": "markdown",
      "source": [
        "Question 2"
      ],
      "metadata": {
        "id": "CpUI7LRZG6YG"
      }
    },
    {
      "cell_type": "code",
      "source": [
        "my_list = [1, 2, 3, 4, 5, 6, 7, 8, 9, 10]\n",
        "series=pd.Series(my_list)\n",
        "print(series)"
      ],
      "metadata": {
        "colab": {
          "base_uri": "https://localhost:8080/"
        },
        "id": "FV_BbIfzG7_r",
        "outputId": "ee63ff86-0551-42ae-b611-472a0b49e738"
      },
      "execution_count": 4,
      "outputs": [
        {
          "output_type": "stream",
          "name": "stdout",
          "text": [
            "0     1\n",
            "1     2\n",
            "2     3\n",
            "3     4\n",
            "4     5\n",
            "5     6\n",
            "6     7\n",
            "7     8\n",
            "8     9\n",
            "9    10\n",
            "dtype: int64\n"
          ]
        }
      ]
    },
    {
      "cell_type": "markdown",
      "source": [
        "Question 3"
      ],
      "metadata": {
        "id": "0QdxZsuYG8er"
      }
    },
    {
      "cell_type": "code",
      "source": [
        "l1=['Alice','Bob','Claire']\n",
        "l2=[25,30,27]\n",
        "l3=['Female','Male','Female']\n",
        "data={'name':l1,'age':l2,'gender':l3}\n",
        "df=pd.DataFrame(data)\n",
        "df.head()"
      ],
      "metadata": {
        "id": "FTnST9XVG-cD"
      },
      "execution_count": null,
      "outputs": []
    },
    {
      "cell_type": "markdown",
      "source": [
        "Question 4\n",
        "In Pandas, a DataFrame is a two-dimensional labeled data structure with columns that can be of different data types\n",
        "On the other hand, a Pandas Series is a one-dimensional labeled array capable of holding data of any type"
      ],
      "metadata": {
        "id": "Oi2TgV9fG_J-"
      }
    },
    {
      "cell_type": "code",
      "source": [
        "import pandas as pd\n",
        "data = {'Name': ['Alice', 'Bob', 'Claire'],\n",
        "        'Age': [25, 30, 27],\n",
        "        'Gender': ['Female', 'Male', 'Female']}\n",
        "df = pd.DataFrame(data)\n",
        "\n",
        "\n",
        "ages = pd.Series([25, 30, 27], name='Age')\n",
        "\n",
        "print(\"DataFrame:\")\n",
        "print(df)\n",
        "print(\"\\nSeries:\")\n",
        "print(ages)\n"
      ],
      "metadata": {
        "id": "12LFZaetHBEj"
      },
      "execution_count": null,
      "outputs": []
    },
    {
      "cell_type": "markdown",
      "source": [
        "Question 5"
      ],
      "metadata": {
        "id": "ZomIoJxYHCGZ"
      }
    },
    {
      "cell_type": "code",
      "source": [
        "df.tail()\n",
        "df.head()\n",
        "df.columns\n",
        "df.dtypes"
      ],
      "metadata": {
        "colab": {
          "base_uri": "https://localhost:8080/"
        },
        "id": "xI5JQUD2HD1D",
        "outputId": "fe646938-91b1-4a41-80ca-4fc5894bea5e"
      },
      "execution_count": 9,
      "outputs": [
        {
          "output_type": "execute_result",
          "data": {
            "text/plain": [
              "name      object\n",
              "age        int64\n",
              "gender    object\n",
              "dtype: object"
            ]
          },
          "metadata": {},
          "execution_count": 9
        }
      ]
    },
    {
      "cell_type": "markdown",
      "source": [
        "Question 6\n",
        "In Pandas, Series and DataFrame are mutable, while Panel is deprecated and considered immutable."
      ],
      "metadata": {
        "id": "z5jOv8bgHEP5"
      }
    },
    {
      "cell_type": "markdown",
      "source": [
        "Question 7\n"
      ],
      "metadata": {
        "id": "svGMBgJHK4HH"
      }
    },
    {
      "cell_type": "code",
      "source": [
        "import pandas as pd\n",
        "names = pd.Series(['Alice', 'Bob', 'Claire'])\n",
        "ages = pd.Series([25, 30, 27])\n",
        "genders = pd.Series(['Female', 'Male', 'Female'])\n",
        "\n",
        "\n",
        "data = {'Name': names, 'Age': ages, 'Gender': genders}\n",
        "df = pd.DataFrame(data)\n",
        "\n",
        "print(df)"
      ],
      "metadata": {
        "id": "-fTqlcdHK7Id",
        "outputId": "9297e14d-90de-4556-a714-9def2f1f7ed9",
        "colab": {
          "base_uri": "https://localhost:8080/"
        }
      },
      "execution_count": 10,
      "outputs": [
        {
          "output_type": "stream",
          "name": "stdout",
          "text": [
            "     Name  Age  Gender\n",
            "0   Alice   25  Female\n",
            "1     Bob   30    Male\n",
            "2  Claire   27  Female\n"
          ]
        }
      ]
    }
  ]
}